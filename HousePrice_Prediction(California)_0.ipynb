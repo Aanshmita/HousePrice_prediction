{
  "nbformat": 4,
  "nbformat_minor": 0,
  "metadata": {
    "colab": {
      "provenance": []
    },
    "kernelspec": {
      "name": "python3",
      "display_name": "Python 3"
    },
    "language_info": {
      "name": "python"
    }
  },
  "cells": [
    {
      "cell_type": "code",
      "source": [
        "import numpy as np\n",
        "import pandas as pd\n",
        "from sklearn.model_selection import train_test_split\n",
        "from sklearn.preprocessing import StandardScaler\n",
        "from sklearn.linear_model import LinearRegression\n",
        "from sklearn.metrics import mean_squared_error\n",
        "from sklearn.datasets import fetch_california_housing\n",
        "import tensorflow as tf\n",
        "from tensorflow import keras\n",
        "from tensorflow.keras.models import Sequential\n",
        "from tensorflow.keras.layers import Dense"
      ],
      "metadata": {
        "id": "vhE0VqysACz0"
      },
      "execution_count": 1,
      "outputs": []
    },
    {
      "cell_type": "code",
      "execution_count": 2,
      "metadata": {
        "id": "-voJWX3TWepB"
      },
      "outputs": [],
      "source": [
        "\n",
        "california_housing = fetch_california_housing()\n",
        "data = pd.DataFrame(california_housing.data, columns=california_housing.feature_names)\n",
        "data['PRICE'] = california_housing.target\n",
        "\n",
        "X = data.drop('PRICE', axis=1)\n",
        "y = data['PRICE']\n",
        "\n",
        "X_train, X_test, y_train, y_test = train_test_split(X, y, test_size=0.2, random_state=42)\n",
        "\n",
        "\n",
        "\n"
      ]
    },
    {
      "cell_type": "code",
      "source": [
        "scaler = StandardScaler()\n",
        "X_train_scaled = scaler.fit_transform(X_train)\n",
        "X_test_scaled = scaler.transform(X_test)"
      ],
      "metadata": {
        "id": "Ymma1ArSALhy"
      },
      "execution_count": 3,
      "outputs": []
    },
    {
      "cell_type": "code",
      "source": [
        "linear_model = LinearRegression()\n",
        "linear_model.fit(X_train_scaled, y_train)\n",
        "\n",
        "y_pred_linear = linear_model.predict(X_test_scaled)\n",
        "mse_linear = mean_squared_error(y_test, y_pred_linear)\n",
        "print(f\"Linear Regression Mean Squared Error: {mse_linear}\")"
      ],
      "metadata": {
        "colab": {
          "base_uri": "https://localhost:8080/"
        },
        "id": "1rQUm5TcAOw7",
        "outputId": "2a73cfbf-a4b7-445a-c1b9-c6708866d88a"
      },
      "execution_count": 4,
      "outputs": [
        {
          "output_type": "stream",
          "name": "stdout",
          "text": [
            "Linear Regression Mean Squared Error: 0.5558915986952442\n"
          ]
        }
      ]
    },
    {
      "cell_type": "code",
      "source": [
        "model = Sequential()\n",
        "model.add(Dense(64, activation='relu', input_shape=(X_train_scaled.shape[1],)))\n",
        "model.add(Dense(32, activation='relu'))\n",
        "model.add(Dense(1, activation='linear'))\n",
        "\n",
        "model.compile(optimizer='adam', loss='mean_squared_error')\n",
        "\n",
        "model.fit(X_train_scaled, y_train, epochs=50, batch_size=32, validation_split=0.2)\n",
        "\n",
        "y_pred_nn = model.predict(X_test_scaled)\n",
        "mse_nn = mean_squared_error(y_test, y_pred_nn)\n",
        "print(f\"Neural Network Mean Squared Error: {mse_nn}\")"
      ],
      "metadata": {
        "id": "apJXnBmWWg4A",
        "colab": {
          "base_uri": "https://localhost:8080/"
        },
        "outputId": "99d2b9fb-e8ae-46d6-87c1-3450f61ac8b5"
      },
      "execution_count": 5,
      "outputs": [
        {
          "output_type": "stream",
          "name": "stdout",
          "text": [
            "Epoch 1/50\n",
            "413/413 [==============================] - 2s 2ms/step - loss: 0.9554 - val_loss: 0.5148\n",
            "Epoch 2/50\n",
            "413/413 [==============================] - 1s 2ms/step - loss: 0.4333 - val_loss: 0.4109\n",
            "Epoch 3/50\n",
            "413/413 [==============================] - 1s 2ms/step - loss: 0.3789 - val_loss: 0.4157\n",
            "Epoch 4/50\n",
            "413/413 [==============================] - 1s 2ms/step - loss: 0.3775 - val_loss: 0.3818\n",
            "Epoch 5/50\n",
            "413/413 [==============================] - 1s 2ms/step - loss: 0.3461 - val_loss: 0.3810\n",
            "Epoch 6/50\n",
            "413/413 [==============================] - 1s 3ms/step - loss: 0.3363 - val_loss: 0.3587\n",
            "Epoch 7/50\n",
            "413/413 [==============================] - 1s 3ms/step - loss: 0.3365 - val_loss: 0.3750\n",
            "Epoch 8/50\n",
            "413/413 [==============================] - 1s 2ms/step - loss: 0.3428 - val_loss: 0.3482\n",
            "Epoch 9/50\n",
            "413/413 [==============================] - 1s 2ms/step - loss: 0.3304 - val_loss: 0.3462\n",
            "Epoch 10/50\n",
            "413/413 [==============================] - 1s 2ms/step - loss: 0.3109 - val_loss: 0.3393\n",
            "Epoch 11/50\n",
            "413/413 [==============================] - 1s 2ms/step - loss: 0.3040 - val_loss: 0.3325\n",
            "Epoch 12/50\n",
            "413/413 [==============================] - 1s 2ms/step - loss: 0.3004 - val_loss: 0.3398\n",
            "Epoch 13/50\n",
            "413/413 [==============================] - 1s 2ms/step - loss: 0.2988 - val_loss: 0.3345\n",
            "Epoch 14/50\n",
            "413/413 [==============================] - 1s 2ms/step - loss: 0.2944 - val_loss: 0.3491\n",
            "Epoch 15/50\n",
            "413/413 [==============================] - 1s 2ms/step - loss: 0.3001 - val_loss: 0.3278\n",
            "Epoch 16/50\n",
            "413/413 [==============================] - 1s 2ms/step - loss: 0.2903 - val_loss: 0.3231\n",
            "Epoch 17/50\n",
            "413/413 [==============================] - 1s 2ms/step - loss: 0.3072 - val_loss: 0.3184\n",
            "Epoch 18/50\n",
            "413/413 [==============================] - 1s 2ms/step - loss: 0.2862 - val_loss: 0.3189\n",
            "Epoch 19/50\n",
            "413/413 [==============================] - 1s 3ms/step - loss: 0.2873 - val_loss: 0.3232\n",
            "Epoch 20/50\n",
            "413/413 [==============================] - 1s 3ms/step - loss: 0.2839 - val_loss: 0.3160\n",
            "Epoch 21/50\n",
            "413/413 [==============================] - 1s 2ms/step - loss: 0.2817 - val_loss: 0.3126\n",
            "Epoch 22/50\n",
            "413/413 [==============================] - 1s 2ms/step - loss: 0.2788 - val_loss: 0.3204\n",
            "Epoch 23/50\n",
            "413/413 [==============================] - 1s 2ms/step - loss: 0.2775 - val_loss: 0.3100\n",
            "Epoch 24/50\n",
            "413/413 [==============================] - 1s 2ms/step - loss: 0.2785 - val_loss: 0.3242\n",
            "Epoch 25/50\n",
            "413/413 [==============================] - 1s 2ms/step - loss: 0.2895 - val_loss: 0.3153\n",
            "Epoch 26/50\n",
            "413/413 [==============================] - 1s 2ms/step - loss: 0.2764 - val_loss: 0.3210\n",
            "Epoch 27/50\n",
            "413/413 [==============================] - 1s 2ms/step - loss: 0.2740 - val_loss: 0.3057\n",
            "Epoch 28/50\n",
            "413/413 [==============================] - 1s 2ms/step - loss: 0.2727 - val_loss: 0.3070\n",
            "Epoch 29/50\n",
            "413/413 [==============================] - 1s 2ms/step - loss: 0.2705 - val_loss: 0.3073\n",
            "Epoch 30/50\n",
            "413/413 [==============================] - 1s 2ms/step - loss: 0.2702 - val_loss: 0.3003\n",
            "Epoch 31/50\n",
            "413/413 [==============================] - 1s 2ms/step - loss: 0.2775 - val_loss: 0.2990\n",
            "Epoch 32/50\n",
            "413/413 [==============================] - 1s 3ms/step - loss: 0.2676 - val_loss: 0.3060\n",
            "Epoch 33/50\n",
            "413/413 [==============================] - 1s 3ms/step - loss: 0.2661 - val_loss: 0.3099\n",
            "Epoch 34/50\n",
            "413/413 [==============================] - 1s 3ms/step - loss: 0.2703 - val_loss: 0.3049\n",
            "Epoch 35/50\n",
            "413/413 [==============================] - 1s 2ms/step - loss: 0.2663 - val_loss: 0.2917\n",
            "Epoch 36/50\n",
            "413/413 [==============================] - 1s 2ms/step - loss: 0.2630 - val_loss: 0.2961\n",
            "Epoch 37/50\n",
            "413/413 [==============================] - 1s 2ms/step - loss: 0.2622 - val_loss: 0.2984\n",
            "Epoch 38/50\n",
            "413/413 [==============================] - 1s 2ms/step - loss: 0.2603 - val_loss: 0.2919\n",
            "Epoch 39/50\n",
            "413/413 [==============================] - 1s 2ms/step - loss: 0.2598 - val_loss: 0.2925\n",
            "Epoch 40/50\n",
            "413/413 [==============================] - 1s 2ms/step - loss: 0.2633 - val_loss: 0.2957\n",
            "Epoch 41/50\n",
            "413/413 [==============================] - 1s 2ms/step - loss: 0.2587 - val_loss: 0.2899\n",
            "Epoch 42/50\n",
            "413/413 [==============================] - 1s 2ms/step - loss: 0.2577 - val_loss: 0.2975\n",
            "Epoch 43/50\n",
            "413/413 [==============================] - 1s 2ms/step - loss: 0.2589 - val_loss: 0.2871\n",
            "Epoch 44/50\n",
            "413/413 [==============================] - 1s 2ms/step - loss: 0.2537 - val_loss: 0.2903\n",
            "Epoch 45/50\n",
            "413/413 [==============================] - 1s 2ms/step - loss: 0.2537 - val_loss: 0.2845\n",
            "Epoch 46/50\n",
            "413/413 [==============================] - 2s 5ms/step - loss: 0.2541 - val_loss: 0.2866\n",
            "Epoch 47/50\n",
            "413/413 [==============================] - 1s 3ms/step - loss: 0.2594 - val_loss: 0.2931\n",
            "Epoch 48/50\n",
            "413/413 [==============================] - 1s 2ms/step - loss: 0.2523 - val_loss: 0.2952\n",
            "Epoch 49/50\n",
            "413/413 [==============================] - 1s 2ms/step - loss: 0.2531 - val_loss: 0.2898\n",
            "Epoch 50/50\n",
            "413/413 [==============================] - 1s 2ms/step - loss: 0.2494 - val_loss: 0.2882\n",
            "129/129 [==============================] - 0s 1ms/step\n",
            "Neural Network Mean Squared Error: 0.2801603115597737\n"
          ]
        }
      ]
    }
  ]
}